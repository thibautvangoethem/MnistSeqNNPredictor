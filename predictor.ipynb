{
 "cells": [
  {
   "cell_type": "code",
   "execution_count": 2,
   "outputs": [],
   "source": [
    "import  cv2\n",
    "import  glob\n",
    "import  numpy  as np\n",
    "from  itertools  import  permutations\n",
    "from  matplotlib  import  pyplot  as plt\n",
    "from torchvision import models, transforms\n",
    "import torch.nn.functional as F\n",
    "from torch import nn,flatten\n",
    "import torch\n",
    "from  sklearn.model_selection  import   train_test_split\n",
    "from  sklearn  import  metrics\n",
    "import random\n",
    "train_images_address = \"dataset/trainingSet/trainingSet/\"\n",
    "# Normalizer used for pretrained models\n",
    "normalize = transforms.Normalize(mean=[0.485, 0.456, 0.406],\n",
    "                                     std=[0.229, 0.224, 0.225])"
   ],
   "metadata": {
    "collapsed": false,
    "pycharm": {
     "name": "#%%\n"
    }
   }
  },
  {
   "cell_type": "markdown",
   "source": [
    "code to read in the dataset\n",
    "--"
   ],
   "metadata": {
    "collapsed": false
   }
  },
  {
   "cell_type": "code",
   "execution_count": 3,
   "outputs": [],
   "source": [
    "class Dataset():\n",
    "    def  __init__(self):\n",
    "        self.train_digits_add_dic = {}\n",
    "        self.data = np.zeros ((30000 ,4),dtype=int)\n",
    "        self.data_label = np.zeros ((30000 ,1),dtype=int)\n",
    "\n",
    "        self.exercise_data = np.zeros ((5050 ,4),dtype=int)\n",
    "        self.exercise_data_label = np.zeros ((5050 ,1),dtype=int)\n",
    "\n",
    "        self.class_metadata = {0:{'sequences':[],'class_name':'C','info':'The sequences  of this  class follow a constant trend'},\n",
    "                               1:{'sequences':[],'class_name':'I','info':'The sequences  of this  class follow an incremental trend'},\n",
    "                               2:{'sequences':[],'class_name':'D','info':'The sequences  of this  class follow a decremental trend'},\n",
    "                               3:{'sequences':[],'class_name':'I_D','info':'The sequences  of this  class follow an incremental trend, followed by a decremental trend'},\n",
    "                               4:{'sequences':[],'class_name':'D_I','info':'The sequences  of this  class follow a decremental trend, followed by an incremental trend'},\n",
    "                               5:{'sequences':[],'class_name':'I_D_I','info':'The sequences  of this  class follow n incremental trend, followed by a decremental trend, followed by an incremental trend'},\n",
    "                               6:{'sequences':[],'class_name':'D_I_D','info':'The sequences  of this  class follow a decremental trend, followed by an incremental trend, followed by a decremental trend'},\n",
    "                               }\n",
    "\n",
    "    def  reading_imgs_address(self):\n",
    "        for i in  range (10):\n",
    "            imgs_add = []\n",
    "            for  img_add  in glob.glob(train_images_address+str(i)+'/*.jpg'):\n",
    "                imgs_add.append(img_add)\n",
    "            self.train_digits_add_dic[i] = imgs_add\n",
    "\n",
    "    def  generate_class_sequences(self):\n",
    "        perm = permutations ([0, 1, 2, 3, 4, 5, 6, 7, 8, 9], 4)\n",
    "        counter = 0\n",
    "        for j,sequence  in  enumerate(list(perm)):\n",
    "            if (sequence [3] > sequence [2])  and (sequence [2] > sequence [1])  and (sequence [1] > sequence [0]):\n",
    "                self.class_metadata [1]['sequences']. append(sequence)\n",
    "                self.exercise_data[j,:]= sequence\n",
    "                self.exercise_data_label[j,0] = 1\n",
    "            if (sequence [3] < sequence [2])  and (sequence [2] < sequence [1])  and (sequence [1] < sequence [0]):\n",
    "                self.class_metadata [2]['sequences']. append(sequence)\n",
    "                self.exercise_data[j, :] = sequence\n",
    "                self.exercise_data_label[j, 0] = 2\n",
    "            if (sequence [3] < sequence [2])  and (sequence [2] > sequence [1])  and (sequence [1] > sequence [0]):\n",
    "                self.class_metadata [3]['sequences']. append(sequence)\n",
    "                self.exercise_data[j, :] = sequence\n",
    "                self.exercise_data_label[j, 0] = 3\n",
    "            if (sequence [3] < sequence [2])  and (sequence [2] < sequence [1])  and (sequence [1] > sequence [0]):\n",
    "                self.class_metadata [3]['sequences']. append(sequence)\n",
    "                self.exercise_data[j, :] = sequence\n",
    "                self.exercise_data_label[j, 0] = 3\n",
    "            if (sequence [3] > sequence [2])  and (sequence [2] < sequence [1])  and (sequence [1] < sequence [0]):\n",
    "                self.class_metadata [4]['sequences']. append(sequence)\n",
    "                self.exercise_data[j, :] = sequence\n",
    "                self.exercise_data_label[j, 0] = 4\n",
    "            if (sequence [3] > sequence [2])  and (sequence [2] > sequence [1])  and (sequence [1] < sequence [0]):\n",
    "                self.class_metadata [4]['sequences']. append(sequence)\n",
    "                self.exercise_data[j, :] = sequence\n",
    "                self.exercise_data_label[j, 0] = 4\n",
    "            if (sequence [3] > sequence [2])  and (sequence [2] < sequence [1])  and (sequence [1] > sequence [0]):\n",
    "                self.class_metadata [5]['sequences']. append(sequence)\n",
    "                self.exercise_data[j, :] = sequence\n",
    "                self.exercise_data_label[j, 0] = 5\n",
    "            if (sequence [3] < sequence [2])  and (sequence [2] > sequence [1])  and (sequence [1] < sequence [0]):\n",
    "                self.class_metadata [6]['sequences']. append(sequence)\n",
    "                self.exercise_data[j, :] = sequence\n",
    "                self.exercise_data_label[j, 0] = 6\n",
    "            counter = j\n",
    "        for i in  range (10):\n",
    "            counter  +=1\n",
    "            self.class_metadata [0]['sequences'].append((i,i,i,i))\n",
    "            self.exercise_data[counter , :] = (i,i,i,i)\n",
    "            self.exercise_data_label[counter , 0] = 0\n",
    "        for i in range(30000):\n",
    "            label=random.randint(0,6)\n",
    "            seq=random.choice(self.class_metadata[label]['sequences'])\n",
    "            self.data[i,:]=seq\n",
    "            self.data_label[i,0]=label\n",
    "\n",
    "    def load_images(self , sequences):\n",
    "        images = np.zeros((sequences.shape[0], sequences.shape[1],28 ,28))\n",
    "        for i in range(sequences.shape[0]):\n",
    "            for j in range(sequences[i].shape[0]):\n",
    "                imgs_add = self.train_digits_add_dic[sequences[i][j]]\n",
    "                random_image_add = imgs_add[random.randint(0, len(imgs_add)-1)]\n",
    "                img = cv2.imread(random_image_add)\n",
    "                # img=np.swapaxes(img,1,2)\n",
    "                # img=np.swapaxes(img,0,1)\n",
    "                images[i,j,:] = img[:,:,0]\n",
    "        return images\n",
    "    def load_images_modified(self, sequences):\n",
    "        images = np.zeros((sequences.shape[0], 3 ,224 ,224))\n",
    "        for i in range(sequences.shape[0]):\n",
    "            sub_image=None\n",
    "            started=False\n",
    "            for j in range(sequences[i].shape[0]):\n",
    "                imgs_add = self.train_digits_add_dic[sequences[i][j]]\n",
    "                random_image_add = imgs_add[random.randint(0, len(imgs_add)-1)]\n",
    "                img = cv2.imread(random_image_add)\n",
    "                img=cv2.resize(img,(56,224), interpolation = cv2.INTER_AREA)\n",
    "                if(not started):\n",
    "                    sub_image=img\n",
    "                    started=True\n",
    "                else:\n",
    "                    sub_image=np.append(sub_image,img,axis=1)\n",
    "            sub_image=np.swapaxes(sub_image,1,2)\n",
    "            sub_image=np.swapaxes(sub_image,0,1)\n",
    "            for j in range(2):\n",
    "                images[i,j,:] = sub_image[j,:,:]\n",
    "        return images\n",
    "\n",
    "    def  plot(self ,class_indx):\n",
    "        sequences = self.class_metadata[class_indx ]['sequences']\n",
    "        random_sequence = sequences[random.randint(0,len(sequences))]\n",
    "        seq_imgs_add = []\n",
    "        for i in  range(len(random_sequence)):\n",
    "            img_label = random_sequence[i]\n",
    "            images_add = self.train_digits_add_dic[img_label]\n",
    "            random_image_add = images_add[random.randint(0,len(images_add))]\n",
    "            seq_imgs_add.append(random_image_add)\n",
    "        fig = plt.figure(figsize =(20 ,20), dpi =40)\n",
    "        fig.set_size_inches (35, 10)\n",
    "        columns = len(seq_imgs_add)\n",
    "        rows = 1\n",
    "        for i in  range(columns):\n",
    "            img = cv2.imread(seq_imgs_add[i])\n",
    "            fig.add_subplot(rows , columns , i+1)\n",
    "            plt.imshow(img)\n",
    "        fig.suptitle('class  name : {}\\n info: {}'.format(self.class_metadata[class_indx ]['class_name'],self.class_metadata[class_indx ]['info']),fontsize =50)\n",
    "        plt.show()"
   ],
   "metadata": {
    "collapsed": false,
    "pycharm": {
     "name": "#%%\n"
    }
   }
  },
  {
   "cell_type": "code",
   "execution_count": 4,
   "outputs": [],
   "source": [
    "device = torch.device('cuda' if  torch.cuda.is_available() else 'cpu')\n",
    "batch_size = 10\n",
    "iter=0\n",
    "dataset = Dataset()\n",
    "dataset.reading_imgs_address()\n",
    "dataset.generate_class_sequences()\n",
    "x_train , x_test , y_train , y_test = train_test_split(dataset.data , dataset.data_label, test_size =0.15,  random_state =42)\n",
    "if np.mod(x_train.shape[0], batch_size) == 0.0:\n",
    "    iter =   int(x_train.shape [0]/ batch_size)\n",
    "else:\n",
    "    iter = int(x_train.shape [0] / batch_size) + 1\n",
    "test=dataset.load_images(x_train[0:batch_size])\n",
    "bs = 0\n",
    "iter_list_train=list()\n",
    "train_images=list()\n",
    "for i in  range(iter):\n",
    "    sequences = x_train[bs:bs+batch_size ,:]\n",
    "    labels = y_train[bs:bs+batch_size]\n",
    "    input_images = dataset.load_images(sequences)\n",
    "    for j in input_images:\n",
    "        train_images.append(j)\n",
    "    input_images=torch.from_numpy(input_images.astype(\"float32\"))\n",
    "    iter_list_train.append([sequences,labels,input_images])\n",
    "    bs+=batch_size\n",
    "iter_list_test=list()\n",
    "test_images=list()\n",
    "bs = 0\n",
    "for i in range(int(x_test.shape[0]/batch_size)+1):\n",
    "    sequences = x_test[bs:bs+batch_size ,:]\n",
    "    labels = y_test[bs:bs+batch_size]\n",
    "    input_images = dataset.load_images(sequences)\n",
    "    for j in input_images:\n",
    "        test_images.append(j)\n",
    "    input_images=torch.from_numpy(input_images.astype(\"float32\"))\n",
    "    iter_list_test.append([sequences,labels,input_images])\n",
    "    bs+=batch_size"
   ],
   "metadata": {
    "collapsed": false,
    "pycharm": {
     "name": "#%%\n"
    }
   }
  },
  {
   "cell_type": "markdown",
   "source": [
    "Start creation neural networks\n",
    "--\n",
    "\n",
    "LSTM based\n",
    "--"
   ],
   "metadata": {
    "collapsed": false
   }
  },
  {
   "cell_type": "code",
   "execution_count": 4,
   "outputs": [],
   "source": [
    "class lstm(nn.Module):\n",
    "    def __init__(self,dropout=0.25):\n",
    "        super().__init__ ()\n",
    "        self.lstm = nn.LSTM(784 , #create  LSTM\\\n",
    "                            500 ,\n",
    "                            num_layers=3,\n",
    "                            bidirectional=True ,\n",
    "                            dropout=dropout ,\n",
    "                            batch_first=True)\n",
    "        self.dropout = nn.Dropout(dropout)\n",
    "        self.relu=nn.LeakyReLU(0.1)\n",
    "        self.fc1 = nn.Linear(4000, 500)\n",
    "        self.fc2 = nn.Linear(500 , 7)\n",
    "\n",
    "    def forward(self,x):\n",
    "        h0 = torch.zeros(6, x.size(0), 500).requires_grad_()\n",
    "        h0=h0.to(device)\n",
    "        c0 = torch.zeros(6, x.size(0), 500).requires_grad_()\n",
    "        c0=c0.to(device)\n",
    "        x=x.view(batch_size,    +4, -1)\n",
    "\n",
    "        packed_output , (hidden , cell) = self.lstm(x,(h0, c0))\n",
    "        # x=torch.cat(( hidden[-2,:,:], hidden [-1,:,:]), dim = 1)\n",
    "        x=flatten(packed_output,1)\n",
    "        x = self.fc1(x)\n",
    "        x=self.relu(x)\n",
    "\n",
    "        x = self.dropout(self.fc2(x))\n",
    "        output=F.softmax(x,dim=1)\n",
    "        return output"
   ],
   "metadata": {
    "collapsed": false,
    "pycharm": {
     "name": "#%%\n"
    }
   }
  },
  {
   "cell_type": "markdown",
   "source": [
    "CNN based\n",
    "--"
   ],
   "metadata": {
    "collapsed": false
   }
  },
  {
   "cell_type": "code",
   "execution_count": 5,
   "outputs": [],
   "source": [
    "class cnn(nn.Module):\n",
    "    def __init__(self,dropout=0.25):\n",
    "        super(cnn, self).__init__()\n",
    "\n",
    "        self.conv1=nn.Conv2d(4,16,kernel_size=3,stride=1,padding=0)\n",
    "        self.conv2 = nn.Conv2d(16, 16, kernel_size=3, stride=1, padding=0)\n",
    "        # self.conv3 = nn.Conv2d(16, 16, kernel_size=3, stride=1, padding=0)\n",
    "        self.fc1=nn.Linear(400,100)\n",
    "        self.fc2=nn.Linear(100,100)\n",
    "        self.fc3=nn.Linear(100,100)\n",
    "        self.fc4=nn.Linear(100,7)\n",
    "        # self.fc = nn.Linear(46656, 15)\n",
    "        self.dropout = nn.Dropout(dropout)\n",
    "\n",
    "    def forward(self,x):\n",
    "        x=F.relu(self.conv1(x))\n",
    "        x=F.max_pool2d(x,2)\n",
    "        x=F.relu(self.conv2(x))\n",
    "        x=F.max_pool2d(x,2)\n",
    "        x=flatten(x,1)\n",
    "        x=self.fc1(x)\n",
    "        x=F.relu(x)\n",
    "        x=self.fc2(x)\n",
    "        x=F.relu(x)\n",
    "        x=self.fc3(x)\n",
    "        x=F.relu(x)\n",
    "        x=self.dropout(self.fc4(x))\n",
    "        output=F.softmax(x,dim=1)\n",
    "        return output"
   ],
   "metadata": {
    "collapsed": false,
    "pycharm": {
     "name": "#%%\n"
    }
   }
  },
  {
   "cell_type": "markdown",
   "source": [
    "CNN vgg19 based\n",
    "--\n",
    "This one eas eventually not used because the 3*224*224 images would end up taking up too much vram, slowing down the training process too much to bee usefull"
   ],
   "metadata": {
    "collapsed": false
   }
  },
  {
   "cell_type": "code",
   "execution_count": null,
   "outputs": [],
   "source": [
    "class cnn_vgg19(nn.Module):\n",
    "    def __init__(self,dropout=0.25):\n",
    "        super(cnn_vgg19, self).__init__()\n",
    "\n",
    "        self.feature_extraction=models.vgg19(pretrained=True)\n",
    "        num_ftrs=self.feature_extraction.classifier[6].in_features\n",
    "        self.feature_extraction.classifier[6]=nn.Linear(num_ftrs,7)\n",
    "        # self.fc1=nn.Linear(700,350)\n",
    "        # self.fc2=nn.Linear(350,350)\n",
    "        # self.fc3=nn.Linear(350,7)\n",
    "        self.dropout = nn.Dropout(dropout)\n",
    "\n",
    "    def forward(self,x):\n",
    "        x=normalize.forward(x)\n",
    "        x=self.feature_extraction.forward(x)\n",
    "        # x=self.fc1.forward(x)\n",
    "        # x=self.fc2.forward(x)\n",
    "        # x=self.fc3.forward(x)\n",
    "        return x"
   ],
   "metadata": {
    "collapsed": false,
    "pycharm": {
     "name": "#%%\n"
    }
   }
  },
  {
   "cell_type": "markdown",
   "source": [
    "CNN and lstm based\n",
    "--"
   ],
   "metadata": {
    "collapsed": false
   }
  },
  {
   "cell_type": "code",
   "execution_count": 5,
   "outputs": [],
   "source": [
    "class cnn_lstm(nn.Module):\n",
    "    def __init__(self,dropout=0.25):\n",
    "        super(cnn_lstm, self).__init__()\n",
    "\n",
    "        self.conv1=nn.Conv2d(1,50,kernel_size=3,stride=1,padding=0)\n",
    "        self.conv2 = nn.Conv2d(50, 50, kernel_size=3, stride=1, padding=0)\n",
    "        self.lstm = nn.LSTM(1250 , #create  LSTM\\\n",
    "                            500,\n",
    "                            num_layers=4,\n",
    "                            bidirectional=True ,\n",
    "                            dropout=dropout ,\n",
    "                            batch_first=True)\n",
    "        self.fc1=nn.Linear(4000,1000)\n",
    "        self.fc2=nn.Linear(1000,250)\n",
    "        self.fc3=nn.Linear(250,7)\n",
    "        self.dropout = nn.Dropout(dropout)\n",
    "\n",
    "\n",
    "    def forward(self,x):\n",
    "        h0 = torch.zeros(8, x.size(0), 500).requires_grad_()\n",
    "        h0=h0.to(device)\n",
    "        c0 = torch.zeros(8, x.size(0), 500).requires_grad_()\n",
    "        c0=c0.to(device)\n",
    "        x=x.view(batch_size*4,1,28,28)\n",
    "        x=F.relu(self.conv1(x))\n",
    "        x=F.max_pool2d(x,2)\n",
    "        x=F.relu(self.conv2(x))\n",
    "        x=F.max_pool2d(x,2)\n",
    "        x = self.dropout(x)\n",
    "        x=x.view(batch_size, 4, -1)\n",
    "        packed_output , (hidden , cell) = self.lstm(x,(h0, c0))\n",
    "        x=flatten(packed_output,1)\n",
    "        x=self.fc1.forward(x)\n",
    "        x=F.relu(x)\n",
    "        x=self.fc2.forward(x)\n",
    "        x=F.relu(x)\n",
    "        x=self.fc3.forward(x)\n",
    "        x=F.softmax(x,dim=1)\n",
    "        return x\n"
   ],
   "metadata": {
    "collapsed": false,
    "pycharm": {
     "name": "#%%\n"
    }
   }
  },
  {
   "cell_type": "markdown",
   "source": [
    "Training and evaluating of the networks\n",
    "----\n",
    "\n",
    "Note that these results might be slightly different than those in the report. when making this notebook ready for sending the assignment all results got deleted so I had to retrain the networks."
   ],
   "metadata": {
    "collapsed": false
   }
  },
  {
   "cell_type": "code",
   "execution_count": 10,
   "outputs": [],
   "source": [
    "class train_network_new_images():\n",
    "    def __init__(self,model,x_train,y_train,x_test,y_test,epochs,modified=False):\n",
    "        self.model=model\n",
    "        self.loss = self.loss_function()\n",
    "        self.optim=self.optim_function()\n",
    "        self.epochs=epochs\n",
    "\n",
    "        self.x_train=x_train\n",
    "        self.y_train=y_train\n",
    "        self.x_test=x_test\n",
    "        self.y_test=y_test\n",
    "        self.train_loss_history=[]\n",
    "        self.val_loss_history=[]\n",
    "        self.modified=modified\n",
    "        self.fit()\n",
    "\n",
    "    def loss_function(self):\n",
    "        return  nn.BCEWithLogitsLoss()\n",
    "\n",
    "    def optim_function(self):\n",
    "        return torch.optim.Adam(self.model.parameters (), lr=0.00005)\n",
    "        # return optim.SGD(filter(lambda p: p.requires_grad, self.model.parameters()),lr=0.0005,momentum=0.9)\n",
    "\n",
    "    def fit(self):\n",
    "\n",
    "        for epoch in range(self.epochs):\n",
    "            print(\"starting epoch:\"+str(epoch))\n",
    "            temp_loss=0\n",
    "            itr=0\n",
    "            bs=0\n",
    "            while bs<len(self.x_train):\n",
    "                if(bs+batch_size>len(self.x_train)):\n",
    "                    bs+=batch_size\n",
    "                    continue\n",
    "                #read in the training data, the modified path is for reading in the images with vgg dimensions\n",
    "                if not self.modified:\n",
    "                    xb=dataset.load_images(x_train[bs:bs+batch_size,:]).astype(\"float32\")\n",
    "                else:\n",
    "                    xb=dataset.load_images_modified(x_train[bs:bs+batch_size,:]).astype(\"float32\")\n",
    "                #Read in labels and place them in one hot encoded array\n",
    "                ybData=self.y_train[bs:bs+batch_size]\n",
    "                yb=np.zeros((len(ybData),7))\n",
    "                for idx,i in enumerate(ybData):\n",
    "                    yb[idx,i]=1\n",
    "                yb=torch.tensor(yb,dtype=torch.float)\n",
    "                xb=torch.from_numpy(xb).to(device)\n",
    "                yb=yb.to(device)\n",
    "                #training\n",
    "                temp_loss += self.loss_batch(xb,yb)\n",
    "                bs+=batch_size\n",
    "                itr+=1\n",
    "                xb.to('cpu')\n",
    "                if(bs%500==499):\n",
    "                    print(\"trained on 500 images\")\n",
    "            self.train_loss_history.append(temp_loss.item()/itr)\n",
    "            self.model.eval()\n",
    "            with torch.no_grad():\n",
    "                valid_loss=0\n",
    "                itr=0\n",
    "                bs=0\n",
    "                while bs<len(self.x_test):\n",
    "                    if(bs+batch_size>len(self.x_test)):\n",
    "                        bs+=batch_size\n",
    "                        continue\n",
    "                    if not self.modified:\n",
    "                        xb=dataset.load_images(x_test[bs:bs+batch_size,:]).astype(\"float32\")\n",
    "                    else:\n",
    "                        xb=dataset.load_images_modified(x_test[bs:bs+batch_size,:]).astype(\"float32\")\n",
    "                    ybData=self.y_test[bs:bs+batch_size]\n",
    "                    yb=np.zeros((len(ybData),7))\n",
    "                    for idx,i in enumerate(ybData):\n",
    "                        yb[idx,i]=1\n",
    "                    yb=torch.tensor(yb,dtype=torch.float)\n",
    "                    xb=torch.from_numpy(xb).to(device)\n",
    "                    yb=yb.to(device)\n",
    "                    #validtion\n",
    "                    valid_loss+=self.loss(self.model(xb),yb)\n",
    "                    bs+=batch_size\n",
    "                    itr+=1\n",
    "                    xb.to('cpu')\n",
    "                self.val_loss_history.append(valid_loss.item()/itr)\n",
    "            self.model.train()\n",
    "    def loss_batch(self,xb,yb):\n",
    "        # print(\"1\")\n",
    "        loss=self.loss(self.model(xb),yb)\n",
    "        if self.optim is not None:\n",
    "            loss.backward()\n",
    "            self.optim.step()\n",
    "            self.optim.zero_grad()\n",
    "        return loss"
   ],
   "metadata": {
    "collapsed": false,
    "pycharm": {
     "name": "#%%\n"
    }
   }
  },
  {
   "cell_type": "code",
   "execution_count": 7,
   "outputs": [],
   "source": [
    "def plot_trianval_loss(train,val):\n",
    "    plt.plot(train,color=\"red\",marker=\",\",linestyle=\"solid\",linewidth=2,markersize=12,label=\"Train Loss\")\n",
    "    plt.plot(val,color=\"green\",marker=\",\",linestyle=\"solid\",linewidth=2,markersize=12,label=\"Validation Loss\")\n",
    "    plt.xlabel(\"Epoch\")\n",
    "    plt.ylabel(\"Loss\")\n",
    "    plt.title(\"Train and Validation Loss\")\n",
    "    plt.legend()\n",
    "    plt.show()\n",
    "def print_metrics(network):\n",
    "    predicts = []\n",
    "    labels=[]\n",
    "    #enable to also include trainign data in metrics\n",
    "    # bs=0\n",
    "    # while bs<len(x_train):\n",
    "    #     xb=dataset.load_images(x_train[bs:bs+batch_size,:]).astype(\"float32\")\n",
    "    #     xb=torch.from_numpy(xb).to(device)\n",
    "    #     yb=y_train[bs:bs+batch_size]\n",
    "    #     bs+=batch_size\n",
    "    #     if(len(yb) is not batch_size):\n",
    "    #         continue\n",
    "    #     test=network.forward(xb).cpu().detach().numpy()\n",
    "    #     # predicts.append(np.where(test==np.amax(test))[1][0])\n",
    "    #     for i in test:\n",
    "    #         predicts.append(np.where(i==np.amax(i))[0][0])\n",
    "    #     for i in yb:\n",
    "    #         labels.append(i)\n",
    "    #     xb.to('cpu')\n",
    "    bs=0\n",
    "    while bs<len(x_test):\n",
    "        xb=dataset.load_images(x_test[bs:bs+batch_size,:]).astype(\"float32\")\n",
    "        xb=torch.from_numpy(xb).to(device)\n",
    "        yb=y_test[bs:bs+batch_size]\n",
    "        bs+=batch_size\n",
    "        if(len(yb) is not batch_size):\n",
    "            continue\n",
    "        test=network.forward(xb).cpu().detach().numpy()\n",
    "        # predicts.append(np.where(test==np.amax(test))[1][0])\n",
    "        for i in test:\n",
    "            predicts.append(np.where(i==np.amax(i))[0][0])\n",
    "        for i in yb:\n",
    "            labels.append(i)\n",
    "        xb.to('cpu')\n",
    "    print(metrics.classification_report(labels, predicts))\n",
    "    cm=metrics.confusion_matrix(labels, predicts)\n",
    "    disp = metrics.ConfusionMatrixDisplay(confusion_matrix=cm,\n",
    "                                  display_labels=['C','I','D','ID','DI','IDI','DID'])\n",
    "    disp.plot()"
   ],
   "metadata": {
    "collapsed": false,
    "pycharm": {
     "name": "#%%\n"
    }
   }
  },
  {
   "cell_type": "markdown",
   "source": [
    "train and evaluate cnn network"
   ],
   "metadata": {
    "collapsed": false
   }
  },
  {
   "cell_type": "code",
   "execution_count": 10,
   "outputs": [
    {
     "name": "stdout",
     "output_type": "stream",
     "text": [
      "creating network\n",
      "training network\n",
      "starting epoch:0\n",
      "starting epoch:1\n",
      "starting epoch:2\n",
      "starting epoch:3\n",
      "starting epoch:4\n",
      "starting epoch:5\n",
      "starting epoch:6\n",
      "starting epoch:7\n",
      "starting epoch:8\n",
      "starting epoch:9\n",
      "starting epoch:10\n",
      "starting epoch:11\n",
      "starting epoch:12\n",
      "starting epoch:13\n",
      "starting epoch:14\n",
      "starting epoch:15\n",
      "starting epoch:16\n",
      "starting epoch:17\n",
      "starting epoch:18\n",
      "starting epoch:19\n",
      "starting epoch:20\n",
      "starting epoch:21\n",
      "starting epoch:22\n",
      "starting epoch:23\n",
      "starting epoch:24\n",
      "starting epoch:25\n",
      "starting epoch:26\n",
      "starting epoch:27\n",
      "starting epoch:28\n",
      "starting epoch:29\n",
      "starting epoch:30\n",
      "starting epoch:31\n",
      "starting epoch:32\n",
      "starting epoch:33\n",
      "starting epoch:34\n",
      "starting epoch:35\n",
      "starting epoch:36\n",
      "starting epoch:37\n",
      "starting epoch:38\n",
      "starting epoch:39\n",
      "starting epoch:40\n",
      "starting epoch:41\n",
      "starting epoch:42\n",
      "starting epoch:43\n",
      "starting epoch:44\n",
      "starting epoch:45\n",
      "starting epoch:46\n",
      "starting epoch:47\n",
      "starting epoch:48\n",
      "starting epoch:49\n",
      "starting epoch:50\n",
      "starting epoch:51\n",
      "starting epoch:52\n",
      "starting epoch:53\n",
      "starting epoch:54\n",
      "starting epoch:55\n",
      "starting epoch:56\n",
      "starting epoch:57\n",
      "starting epoch:58\n",
      "starting epoch:59\n",
      "starting epoch:60\n",
      "starting epoch:61\n",
      "starting epoch:62\n",
      "starting epoch:63\n",
      "starting epoch:64\n",
      "starting epoch:65\n",
      "starting epoch:66\n",
      "starting epoch:67\n",
      "starting epoch:68\n",
      "starting epoch:69\n",
      "starting epoch:70\n",
      "starting epoch:71\n",
      "starting epoch:72\n",
      "starting epoch:73\n",
      "starting epoch:74\n",
      "starting epoch:75\n",
      "starting epoch:76\n",
      "starting epoch:77\n",
      "starting epoch:78\n",
      "starting epoch:79\n",
      "starting epoch:80\n",
      "starting epoch:81\n",
      "starting epoch:82\n",
      "starting epoch:83\n",
      "starting epoch:84\n",
      "starting epoch:85\n",
      "starting epoch:86\n",
      "starting epoch:87\n",
      "starting epoch:88\n",
      "starting epoch:89\n",
      "starting epoch:90\n",
      "starting epoch:91\n",
      "starting epoch:92\n",
      "starting epoch:93\n",
      "starting epoch:94\n",
      "starting epoch:95\n",
      "starting epoch:96\n",
      "starting epoch:97\n",
      "starting epoch:98\n",
      "starting epoch:99\n",
      "[0.7444356482798659, 0.7347773153950848, 0.7272969643900714, 0.7230771883266178, 0.7193994597187192, 0.7179027166892225, 0.716258492056779, 0.7154363797405573, 0.7144778394323634, 0.7132693313238189, 0.7125038687638411, 0.7110417884165846, 0.7108789879506029, 0.7107321671613558, 0.709485512080155, 0.7094984880582554, 0.7089038758765994, 0.7087153637503075, 0.7086090328186516, 0.7078930712121678, 0.707246795414001, 0.7072202427180734, 0.7069381353423352, 0.7061223307932456, 0.7064546600101501, 0.7059485968642347, 0.7058446088175135, 0.7054362259511873, 0.7044812900813546, 0.7047864658626046, 0.7047684436707985, 0.7038359754667507, 0.7039575051134965, 0.7038008321927288, 0.7039158738504244, 0.7033517792468934, 0.7030721949780081, 0.702170905165785, 0.7005961260457677, 0.6987597848486713, 0.6984642809770238, 0.6983939343550074, 0.6977197842335138, 0.6970883467066007, 0.6967954260157788, 0.6960739376038079, 0.6957926712636873, 0.6956728236881766, 0.6961859755628691, 0.6954455638495017, 0.6950288907749447, 0.6952682254821296, 0.6952377679779773, 0.6939236498254491, 0.6938752302034633, 0.694070290392778, 0.6941719355545645, 0.6937898650882751, 0.6932082288847194, 0.6932653592327448, 0.6931223831777498, 0.6933515653835507, 0.6930112463282788, 0.6922071562038632, 0.692138671875, 0.691861130121186, 0.6917332927073081, 0.6921018465297428, 0.6914074514794537, 0.6915190088467336, 0.6919379647322527, 0.6915357094111405, 0.6913476178026575, 0.6907142579086184, 0.6910089808186208, 0.6906849418099471, 0.6905532596618171, 0.6902689295490896, 0.6905151126891609, 0.6902604591189407, 0.6902014064037894, 0.6898833147184117, 0.6902850293737697, 0.689055435300812, 0.6889207494540477, 0.6890539334514948, 0.6886998574564777, 0.6886808740811086, 0.688556400809701, 0.6880653561569574, 0.6885726207823265, 0.6881111925981176, 0.6875937754713645, 0.6874425692821112, 0.6876887524221825, 0.6879274263156681, 0.6878301665538878, 0.6876280777097687, 0.6873790110190083, 0.6876970426304134]\n",
      "[0.7386435595425692, 0.728313532742587, 0.7214107513427734, 0.7176023396578702, 0.7152089639143511, 0.7118976766412909, 0.7094917297363281, 0.7085244872353293, 0.7090764912691984, 0.7080423615195535, 0.7051105932755903, 0.7057454802773215, 0.7049958489157937, 0.7046148126775568, 0.7034252773631703, 0.701688983223655, 0.7040506276217374, 0.702189402146773, 0.7016529603437944, 0.7002488049593839, 0.7023047533902255, 0.7004433545199308, 0.7004899111661044, 0.7008738084272905, 0.698368636044589, 0.7006676847284491, 0.6997668092901056, 0.6979479789733887, 0.6991832473061301, 0.6994122591885653, 0.6971797943115234, 0.6971654458479448, 0.6973694888028231, 0.6971791007302024, 0.6968884901566939, 0.6959395408630371, 0.6970422484657981, 0.6930815523320978, 0.6919276064092462, 0.6893674677068536, 0.6888747215270996, 0.6892218589782715, 0.689277172088623, 0.6882236654108221, 0.687905875119296, 0.6883098428899591, 0.6885218186811968, 0.6873881600119851, 0.6885482614690607, 0.6877956823869185, 0.6856992027976296, 0.6880229603160511, 0.6853537992997603, 0.6871482675725763, 0.6857252987948331, 0.6870049129832875, 0.6861431815407493, 0.6856987259604714, 0.684885935349898, 0.6839906519109552, 0.685625509782271, 0.6855701966719194, 0.684761567549272, 0.6849942207336426, 0.6837209354747426, 0.6841092109680176, 0.6829379255121405, 0.6845409653403542, 0.6837421330538663, 0.6838550567626953, 0.6830453439192339, 0.681526704268022, 0.6834917068481445, 0.6837380582636053, 0.6826384284279563, 0.6827573776245117, 0.6831656369295988, 0.6818892739035867, 0.6811734546314586, 0.6807815811850808, 0.6811444542624734, 0.6817755699157715, 0.682485970583829, 0.6799537485296075, 0.6806778040799227, 0.6797845146872781, 0.6806377931074663, 0.6808991865678267, 0.6802510781721636, 0.680144570090554, 0.6793691895224832, 0.6789583292874423, 0.6793850985440341, 0.6791932799599387, 0.6789082180369984, 0.6799084489995783, 0.6800699667497114, 0.6771364645524458, 0.6778471686623313, 0.6773684241554954]\n",
      "finished training\n",
      "creating plots\n"
     ]
    },
    {
     "data": {
      "text/plain": "<Figure size 432x288 with 1 Axes>",
      "image/png": "[encoded data removed]"
     },
     "metadata": {
      "needs_background": "light"
     },
     "output_type": "display_data"
    }
   ],
   "source": [
    "batch_size=200\n",
    "print(\"creating network\")\n",
    "# Toggle to switch between own network and vgg16\n",
    "cnn_network=cnn(dropout=0.2)\n",
    "cnn_network.to(device)\n",
    "print(\"training network\")\n",
    "train =train_network_new_images(cnn_network,x_train,y_train,x_test,y_test,100)\n",
    "\n",
    "print(train.train_loss_history)\n",
    "print(train.val_loss_history)\n",
    "print(\"finished training\")\n",
    "print(\"creating plots\")\n",
    "plot_trianval_loss(train.train_loss_history,train.val_loss_history)"
   ],
   "metadata": {
    "collapsed": false,
    "pycharm": {
     "name": "#%%\n"
    }
   }
  },
  {
   "cell_type": "code",
   "execution_count": 11,
   "outputs": [
    {
     "name": "stdout",
     "output_type": "stream",
     "text": [
      "              precision    recall  f1-score   support\n",
      "\n",
      "           0       0.77      0.89      0.82       659\n",
      "           1       0.62      0.80      0.70       594\n",
      "           2       0.67      0.70      0.68       631\n",
      "           3       0.53      0.54      0.53       632\n",
      "           4       0.71      0.48      0.57       606\n",
      "           5       0.66      0.61      0.64       648\n",
      "           6       0.67      0.58      0.62       630\n",
      "\n",
      "    accuracy                           0.66      4400\n",
      "   macro avg       0.66      0.66      0.65      4400\n",
      "weighted avg       0.66      0.66      0.65      4400\n",
      "\n"
     ]
    },
    {
     "data": {
      "text/plain": "<Figure size 432x288 with 2 Axes>",
      "image/png": "[encoded data removed]"
     },
     "metadata": {
      "needs_background": "light"
     },
     "output_type": "display_data"
    }
   ],
   "source": [
    "print_metrics(cnn_network)"
   ],
   "metadata": {
    "collapsed": false,
    "pycharm": {
     "name": "#%%\n"
    }
   }
  },
  {
   "cell_type": "markdown",
   "source": [
    "train and evaluate lstm network"
   ],
   "metadata": {
    "collapsed": false
   }
  },
  {
   "cell_type": "code",
   "execution_count": 12,
   "outputs": [
    {
     "name": "stdout",
     "output_type": "stream",
     "text": [
      "creating network\n",
      "training network\n",
      "starting epoch:0\n",
      "starting epoch:1\n",
      "starting epoch:2\n",
      "starting epoch:3\n",
      "starting epoch:4\n",
      "starting epoch:5\n",
      "starting epoch:6\n",
      "starting epoch:7\n",
      "starting epoch:8\n",
      "starting epoch:9\n",
      "starting epoch:10\n",
      "starting epoch:11\n",
      "starting epoch:12\n",
      "starting epoch:13\n",
      "starting epoch:14\n",
      "starting epoch:15\n",
      "starting epoch:16\n",
      "starting epoch:17\n",
      "starting epoch:18\n",
      "starting epoch:19\n",
      "starting epoch:20\n",
      "starting epoch:21\n",
      "starting epoch:22\n",
      "starting epoch:23\n",
      "starting epoch:24\n",
      "starting epoch:25\n",
      "starting epoch:26\n",
      "starting epoch:27\n",
      "starting epoch:28\n",
      "starting epoch:29\n",
      "starting epoch:30\n",
      "starting epoch:31\n",
      "starting epoch:32\n",
      "starting epoch:33\n",
      "starting epoch:34\n",
      "starting epoch:35\n",
      "starting epoch:36\n",
      "starting epoch:37\n",
      "starting epoch:38\n",
      "starting epoch:39\n",
      "starting epoch:40\n",
      "starting epoch:41\n",
      "starting epoch:42\n",
      "starting epoch:43\n",
      "starting epoch:44\n",
      "starting epoch:45\n",
      "starting epoch:46\n",
      "starting epoch:47\n",
      "starting epoch:48\n",
      "starting epoch:49\n",
      "starting epoch:50\n",
      "starting epoch:51\n",
      "starting epoch:52\n",
      "starting epoch:53\n",
      "starting epoch:54\n",
      "starting epoch:55\n",
      "starting epoch:56\n",
      "starting epoch:57\n",
      "starting epoch:58\n",
      "starting epoch:59\n",
      "starting epoch:60\n",
      "starting epoch:61\n",
      "starting epoch:62\n",
      "starting epoch:63\n",
      "starting epoch:64\n",
      "starting epoch:65\n",
      "starting epoch:66\n",
      "starting epoch:67\n",
      "starting epoch:68\n",
      "starting epoch:69\n",
      "starting epoch:70\n",
      "starting epoch:71\n",
      "starting epoch:72\n",
      "starting epoch:73\n",
      "starting epoch:74\n",
      "starting epoch:75\n",
      "starting epoch:76\n",
      "starting epoch:77\n",
      "starting epoch:78\n",
      "starting epoch:79\n",
      "starting epoch:80\n",
      "starting epoch:81\n",
      "starting epoch:82\n",
      "starting epoch:83\n",
      "starting epoch:84\n",
      "starting epoch:85\n",
      "starting epoch:86\n",
      "starting epoch:87\n",
      "starting epoch:88\n",
      "starting epoch:89\n",
      "starting epoch:90\n",
      "starting epoch:91\n",
      "starting epoch:92\n",
      "starting epoch:93\n",
      "starting epoch:94\n",
      "starting epoch:95\n",
      "starting epoch:96\n",
      "starting epoch:97\n",
      "starting epoch:98\n",
      "starting epoch:99\n",
      "[0.7407870555487205, 0.7054426538662648, 0.6930871798297552, 0.6873560026874692, 0.6841178954116941, 0.6814484483613743, 0.6798237477700542, 0.6781681691567729, 0.677226509634904, 0.6760306771345964, 0.6747593316506213, 0.6739647332138903, 0.6729870293084093, 0.6727070845956877, 0.6715551060954417, 0.6713570422074926, 0.6709119541438546, 0.6705454428364911, 0.6697927159587229, 0.6696878268024115, 0.6694915651336429, 0.6690523643193282, 0.6681204367810347, 0.6678867490272823, 0.6682354784387303, 0.6673797246978039, 0.6670984583576833, 0.6663630928580216, 0.6660049919068344, 0.6659792201725516, 0.6654735174704725, 0.6658746914600763, 0.6651380644069882, 0.6650090855876292, 0.6647997277928149, 0.6646865484282727, 0.6645685030719427, 0.6641810259481115, 0.6638353002352977, 0.6628363902174582, 0.6630430446835015, 0.6625722449595534, 0.663117416261688, 0.6629820696012242, 0.6617552990049828, 0.6620936956931287, 0.6616591806486836, 0.661709943155604, 0.6615122397114911, 0.6615918377253014, 0.6611172533410741, 0.6611241618479331, 0.6606126319705032, 0.6604431632935531, 0.6594948355607161, 0.6602948406549889, 0.6594588512510765, 0.6596055518923782, 0.6597462451364112, 0.6593320350947343, 0.6589479821873462, 0.6586023766224779, 0.658581230584092, 0.6581641970656988, 0.6584381343811516, 0.6582902923343689, 0.658702159491111, 0.6584202924112635, 0.6577411561500369, 0.6578596820981484, 0.657489506278451, 0.6570878516970657, 0.6571067149244895, 0.6573119876891609, 0.6568926112858329, 0.6567179161732591, 0.656743447611651, 0.6568164975624385, 0.6560259841558501, 0.6570347463052104, 0.6565347506305365, 0.6563462385042446, 0.6559365340105192, 0.6559182715228223, 0.6559451846625861, 0.6558619822104146, 0.655581316610021, 0.6561533409779466, 0.6561442097340981, 0.6561124906765194, 0.6563744131974348, 0.6558113398514395, 0.6556817002183809, 0.6556648194320559, 0.6556528046375184, 0.6553077397384043, 0.6558166864350086, 0.6554959514948326, 0.6553445650836615, 0.6550435944804995]\n",
      "[0.7171175263144753, 0.6873670491305265, 0.6788482666015625, 0.6749054301868785, 0.6717568744312633, 0.6708018563010476, 0.6685880314220082, 0.6665736111727628, 0.6646911447698419, 0.6641000400890004, 0.6629079471934926, 0.6618364507501776, 0.6606704105030407, 0.6619129614396528, 0.6590091965415261, 0.659492319280451, 0.6581580855629661, 0.6583000529896129, 0.6574531901966442, 0.6585645242170854, 0.6575956778092817, 0.6572387001731179, 0.6571097373962402, 0.6573359316045587, 0.6555674292824485, 0.6556286378340288, 0.6544591730291193, 0.6562617908824574, 0.6531168764287775, 0.6540699438615278, 0.6553307446566495, 0.6534458507191051, 0.6535958376797762, 0.6537345539439808, 0.6530352939258922, 0.6540097323330966, 0.6527872952547941, 0.6519210988825018, 0.6527642770247026, 0.6521163420243696, 0.6520342826843262, 0.6507761695168235, 0.6510204401883212, 0.6507116231051359, 0.6506387103687633, 0.6503458023071289, 0.6496263850818981, 0.6492813283746893, 0.6496041904796254, 0.649148247458718, 0.6498163830150258, 0.6492840593511408, 0.6487989859147505, 0.6481054912913929, 0.6488788344643333, 0.6489836085926403, 0.6480233452536843, 0.6486919142983176, 0.6469348560680043, 0.6475917642766779, 0.6467319835316051, 0.6471925215287642, 0.6477318677035245, 0.6464967727661133, 0.6469728729941628, 0.6460781097412109, 0.6464446241205389, 0.6466277295892889, 0.6463734886863015, 0.6467641917142001, 0.6461033821105957, 0.645817063071511, 0.6457267241044478, 0.6451184532859109, 0.6450745409185236, 0.6444601145657626, 0.6447534561157227, 0.6452277790416371, 0.6450996832414106, 0.645121227611195, 0.6452146009965376, 0.6452437314120206, 0.6454534964127974, 0.6442885832353071, 0.6444793180985884, 0.6448628252202814, 0.6452431245283647, 0.6437445987354625, 0.6441352584145286, 0.6445074514909224, 0.6438911611383612, 0.643512639132413, 0.6446893431923606, 0.6445341543717817, 0.6439550573175604, 0.6437798846851696, 0.6438117027282715, 0.6436515721407804, 0.643725265156139, 0.6432380676269531]\n",
      "finished training\n",
      "creating plots\n"
     ]
    },
    {
     "data": {
      "text/plain": "<Figure size 432x288 with 1 Axes>",
      "image/png": "[encoded data removed]"
     },
     "metadata": {
      "needs_background": "light"
     },
     "output_type": "display_data"
    }
   ],
   "source": [
    "batch_size=200\n",
    "print(\"creating network\")\n",
    "# Toggle to switch between own network and vgg16\n",
    "lstm_network=lstm(dropout=0.2)\n",
    "lstm_network.to(device)\n",
    "print(\"training network\")\n",
    "train =train_network_new_images(lstm_network,x_train,y_train,x_test,y_test,100)\n",
    "\n",
    "print(train.train_loss_history)\n",
    "print(train.val_loss_history)\n",
    "print(\"finished training\")\n",
    "print(\"creating plots\")\n",
    "plot_trianval_loss(train.train_loss_history,train.val_loss_history)"
   ],
   "metadata": {
    "collapsed": false,
    "pycharm": {
     "name": "#%%\n"
    }
   }
  },
  {
   "cell_type": "code",
   "execution_count": 13,
   "outputs": [
    {
     "name": "stdout",
     "output_type": "stream",
     "text": [
      "              precision    recall  f1-score   support\n",
      "\n",
      "           0       0.81      0.98      0.89       659\n",
      "           1       0.81      0.91      0.86       594\n",
      "           2       0.85      0.92      0.88       631\n",
      "           3       0.87      0.84      0.85       632\n",
      "           4       0.92      0.85      0.88       606\n",
      "           5       0.93      0.82      0.87       648\n",
      "           6       0.97      0.77      0.86       630\n",
      "\n",
      "    accuracy                           0.87      4400\n",
      "   macro avg       0.88      0.87      0.87      4400\n",
      "weighted avg       0.88      0.87      0.87      4400\n",
      "\n"
     ]
    },
    {
     "data": {
      "text/plain": "<Figure size 432x288 with 2 Axes>",
      "image/png": "[encoded data removed]"
     },
     "metadata": {
      "needs_background": "light"
     },
     "output_type": "display_data"
    }
   ],
   "source": [
    "print_metrics(lstm_network)"
   ],
   "metadata": {
    "collapsed": false,
    "pycharm": {
     "name": "#%%\n"
    }
   }
  },
  {
   "cell_type": "markdown",
   "source": [
    "train and evaluate cnn_lstm network"
   ],
   "metadata": {
    "collapsed": false
   }
  },
  {
   "cell_type": "code",
   "execution_count": 11,
   "outputs": [
    {
     "name": "stdout",
     "output_type": "stream",
     "text": [
      "creating network\n",
      "training network\n",
      "starting epoch:0\n",
      "starting epoch:1\n",
      "starting epoch:2\n",
      "starting epoch:3\n",
      "starting epoch:4\n",
      "starting epoch:5\n",
      "starting epoch:6\n",
      "starting epoch:7\n",
      "starting epoch:8\n",
      "starting epoch:9\n",
      "starting epoch:10\n",
      "starting epoch:11\n",
      "starting epoch:12\n",
      "starting epoch:13\n",
      "starting epoch:14\n",
      "starting epoch:15\n",
      "starting epoch:16\n",
      "starting epoch:17\n",
      "starting epoch:18\n",
      "starting epoch:19\n",
      "starting epoch:20\n",
      "starting epoch:21\n",
      "starting epoch:22\n",
      "starting epoch:23\n",
      "starting epoch:24\n",
      "starting epoch:25\n",
      "starting epoch:26\n",
      "starting epoch:27\n",
      "starting epoch:28\n",
      "starting epoch:29\n",
      "starting epoch:30\n",
      "starting epoch:31\n",
      "starting epoch:32\n",
      "starting epoch:33\n",
      "starting epoch:34\n",
      "starting epoch:35\n",
      "starting epoch:36\n",
      "starting epoch:37\n",
      "starting epoch:38\n",
      "starting epoch:39\n",
      "starting epoch:40\n",
      "starting epoch:41\n",
      "starting epoch:42\n",
      "starting epoch:43\n",
      "starting epoch:44\n",
      "starting epoch:45\n",
      "starting epoch:46\n",
      "starting epoch:47\n",
      "starting epoch:48\n",
      "starting epoch:49\n",
      "starting epoch:50\n",
      "starting epoch:51\n",
      "starting epoch:52\n",
      "starting epoch:53\n",
      "starting epoch:54\n",
      "starting epoch:55\n",
      "starting epoch:56\n",
      "starting epoch:57\n",
      "starting epoch:58\n",
      "starting epoch:59\n",
      "starting epoch:60\n",
      "starting epoch:61\n",
      "starting epoch:62\n",
      "starting epoch:63\n",
      "starting epoch:64\n",
      "starting epoch:65\n",
      "starting epoch:66\n",
      "starting epoch:67\n",
      "starting epoch:68\n",
      "starting epoch:69\n",
      "starting epoch:70\n",
      "starting epoch:71\n",
      "starting epoch:72\n",
      "starting epoch:73\n",
      "starting epoch:74\n",
      "starting epoch:75\n",
      "starting epoch:76\n",
      "starting epoch:77\n",
      "starting epoch:78\n",
      "starting epoch:79\n",
      "starting epoch:80\n",
      "starting epoch:81\n",
      "starting epoch:82\n",
      "starting epoch:83\n",
      "starting epoch:84\n",
      "starting epoch:85\n",
      "starting epoch:86\n",
      "starting epoch:87\n",
      "starting epoch:88\n",
      "starting epoch:89\n",
      "starting epoch:90\n",
      "starting epoch:91\n",
      "starting epoch:92\n",
      "starting epoch:93\n",
      "starting epoch:94\n",
      "starting epoch:95\n",
      "starting epoch:96\n",
      "starting epoch:97\n",
      "starting epoch:98\n",
      "starting epoch:99\n",
      "[0.7438018077940453, 0.7307481540469672, 0.7238784549743171, 0.7120968075249139, 0.7044049961360421, 0.6928755992979515, 0.6831172432486466, 0.6774200679749016, 0.6736474224901575, 0.6700811311015933, 0.6675724420021838, 0.665727930744802, 0.6637271070104884, 0.6618192177119218, 0.6610357329601378, 0.6590221735436147, 0.6580602090189777, 0.6575687438484252, 0.6565358920360175, 0.6555580079086184, 0.6547899621678149, 0.6539735568789985, 0.6532290601354884, 0.6524157786932517, 0.6523268091397023, 0.6514413788562684, 0.6509296687569205, 0.6506358469565083, 0.6497908464566929, 0.6495697141632321, 0.6494565948726624, 0.6486200047290231, 0.6483804297259473, 0.6481441587913693, 0.6472762100339875, 0.6473040242833416, 0.6469575776828556, 0.6465827160932887, 0.6463214543860728, 0.6462837279312253, 0.6462001650352177, 0.6462589173805057, 0.6455390509657972, 0.6454690047136442, 0.6451389583077017, 0.6450988889679196, 0.6448406910333108, 0.6447275717427411, 0.6443883940929503, 0.6447436715674213, 0.6445946881151575, 0.6440620722733145, 0.64416101410633, 0.6439480518731545, 0.6438239390455832, 0.643553726316437, 0.6434965959684117, 0.6435875479630598, 0.6435757734644132, 0.6436091145192544, 0.6432845949187992, 0.6434423491710753, 0.6431333286555734, 0.6429363460991326, 0.6430057916115588, 0.6430963230883981, 0.6430745763102854, 0.6428014199564777, 0.6431090587706078, 0.6426924457700234, 0.6426016139233206, 0.6429214477539062, 0.6423803614819144, 0.6426296083945927, 0.6423576535202387, 0.64250345305195, 0.6422310175858145, 0.642596928153451, 0.6424046914408527, 0.6420346958430734, 0.6424169465312808, 0.6421327966404712, 0.6419925839882198, 0.6419660913662648, 0.6422715074434056, 0.6419429628867802, 0.6416855459138164, 0.6418187899852362, 0.6418605413962537, 0.6418120016263226, 0.6418758602592889, 0.6415933924397146, 0.6415722464013287, 0.6416541272261012, 0.6415459940752645, 0.6415578286478839, 0.6418384341743049, 0.6417807631605253, 0.6415360217957985, 0.6418184295414001]\n",
      "[0.733411355452104, 0.7275402762673118, 0.7154371088201349, 0.7050198641690341, 0.6956392634998668, 0.6832514676180753, 0.6731683557683771, 0.6666943376714533, 0.6650405797091398, 0.6619197672063654, 0.6618386615406383, 0.6570958224209872, 0.6574289148504083, 0.6555021892894398, 0.6551671895113859, 0.6529475125399503, 0.6539887948469683, 0.6521929827603427, 0.6513545729897239, 0.6498245759443804, 0.6503854231400923, 0.6487132852727716, 0.6490548740733754, 0.6474964401938699, 0.6469388441606001, 0.6483699191700328, 0.6474794908003374, 0.6460240103981711, 0.6462830196727406, 0.6465439362959429, 0.6455855369567871, 0.6461735205216841, 0.6444972211664374, 0.6446838812394575, 0.6448178724809126, 0.6442758386785333, 0.6435750181024725, 0.6436975219032981, 0.6433088996193626, 0.64336820082231, 0.6429840434681285, 0.6429778012362394, 0.6430311636491255, 0.6430275223471902, 0.6428231326016512, 0.6432211615822532, 0.6437664031982422, 0.6423128301447089, 0.6428257768804376, 0.6424549709666859, 0.6419683369723234, 0.642735481262207, 0.6426216472278942, 0.6418989354913885, 0.6420609734275124, 0.6415531418540261, 0.6421082236550071, 0.6415255719965155, 0.641616474498402, 0.6415837027809836, 0.6413563381541859, 0.6417109316045587, 0.6412638317454945, 0.6420630108226429, 0.6417905634099786, 0.6411510814319957, 0.6414760676297274, 0.6415300369262695, 0.6413433335044167, 0.6413510929454457, 0.6409694064747203, 0.6412523443048651, 0.6410442699085582, 0.6410466540943492, 0.6409174745733087, 0.640777197751132, 0.6412088654258035, 0.6408967104825106, 0.6406054930253462, 0.640568039634011, 0.6407823996110396, 0.6409231532703746, 0.6408886042508212, 0.6404631354592063, 0.6407817927273837, 0.6407785415649414, 0.6408173387700861, 0.6408395333723589, 0.6403860612349077, 0.640583948655562, 0.6408870436928489, 0.6404562429948286, 0.6406328461386941, 0.6408860033208673, 0.640322511846369, 0.6403525959361683, 0.6404886679215864, 0.6406060565601696, 0.640831470489502, 0.6406303319064054]\n",
      "finished 1 training\n",
      "creating plots\n"
     ]
    },
    {
     "data": {
      "text/plain": "<Figure size 432x288 with 1 Axes>",
      "image/png": "[encoded data removed]"
     },
     "metadata": {
      "needs_background": "light"
     },
     "output_type": "display_data"
    }
   ],
   "source": [
    "batch_size=200\n",
    "print(\"creating network\")\n",
    "# Toggle to switch between own network and vgg16\n",
    "cnn_lstm_network=cnn_lstm(dropout=0.2)\n",
    "cnn_lstm_network.to(device)\n",
    "print(\"training network\")\n",
    "train =train_network_new_images(cnn_lstm_network,x_train,y_train,x_test,y_test,100)\n",
    "\n",
    "print(train.train_loss_history)\n",
    "print(train.val_loss_history)\n",
    "print(\"finished 1 training\")\n",
    "print(\"creating plots\")\n",
    "\n",
    "plot_trianval_loss(train.train_loss_history,train.val_loss_history)"
   ],
   "metadata": {
    "collapsed": false,
    "pycharm": {
     "name": "#%%\n"
    }
   }
  },
  {
   "cell_type": "code",
   "execution_count": 12,
   "outputs": [
    {
     "name": "stdout",
     "output_type": "stream",
     "text": [
      "              precision    recall  f1-score   support\n",
      "\n",
      "           0       1.00      0.99      0.99       625\n",
      "           1       1.00      0.98      0.99       640\n",
      "           2       0.96      0.99      0.98       614\n",
      "           3       0.96      0.96      0.96       621\n",
      "           4       0.97      0.99      0.98       611\n",
      "           5       0.99      0.98      0.98       650\n",
      "           6       0.97      0.97      0.97       639\n",
      "\n",
      "    accuracy                           0.98      4400\n",
      "   macro avg       0.98      0.98      0.98      4400\n",
      "weighted avg       0.98      0.98      0.98      4400\n",
      "\n"
     ]
    },
    {
     "data": {
      "text/plain": "<Figure size 432x288 with 2 Axes>",
      "image/png": "[encoded data removed]"
     },
     "metadata": {
      "needs_background": "light"
     },
     "output_type": "display_data"
    }
   ],
   "source": [
    "batch_size=200\n",
    "print_metrics(cnn_lstm_network)\n"
   ],
   "metadata": {
    "collapsed": false,
    "pycharm": {
     "name": "#%%\n"
    }
   }
  }
 ],
 "metadata": {
  "kernelspec": {
   "display_name": "Python 3",
   "language": "python",
   "name": "python3"
  },
  "language_info": {
   "codemirror_mode": {
    "name": "ipython",
    "version": 3
   },
   "file_extension": ".py",
   "mimetype": "text/x-python",
   "name": "python",
   "nbconvert_exporter": "python",
   "pygments_lexer": "ipython3",
   "version": "3.8.8"
  }
 },
 "nbformat": 4,
 "nbformat_minor": 1
}